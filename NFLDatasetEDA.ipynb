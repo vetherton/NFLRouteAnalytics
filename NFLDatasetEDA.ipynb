{
 "cells": [
  {
   "cell_type": "markdown",
   "id": "6b789c4d-ac2d-40f6-8a32-b95d3c8ab9b3",
   "metadata": {},
   "source": [
    "<h1 style=\"text-align:center;\">NFL Data Bowl 2023 Data EDA</h1>"
   ]
  },
  {
   "cell_type": "markdown",
   "id": "d2d9bd1e-7904-4568-bfc1-a63d6d5f1458",
   "metadata": {},
   "source": [
    "<p style=\"text-align:center;\">Vincent Etherton -- SML312: Research Projects in Data Science</p>"
   ]
  },
  {
   "cell_type": "code",
   "execution_count": 79,
   "id": "initial_id",
   "metadata": {
    "ExecuteTime": {
     "end_time": "2024-10-03T19:49:21.201568Z",
     "start_time": "2024-10-03T19:49:21.197717Z"
    }
   },
   "outputs": [],
   "source": [
    "# imports\n",
    "import pandas as pd\n",
    "import numpy as np\n",
    "import matplotlib.pyplot as plt\n",
    "%matplotlib inline\n",
    "import seaborn as sns"
   ]
  },
  {
   "cell_type": "code",
   "execution_count": 80,
   "id": "61186bfa2649941e",
   "metadata": {
    "ExecuteTime": {
     "end_time": "2024-10-03T19:49:21.238046Z",
     "start_time": "2024-10-03T19:49:21.208144Z"
    },
    "collapsed": false,
    "jupyter": {
     "outputs_hidden": false
    }
   },
   "outputs": [],
   "source": [
    "file = 'nfl-big-data-bowl-2023/plays.csv'\n",
    "\n",
    "plays = pd.read_csv(file)"
   ]
  },
  {
   "cell_type": "code",
   "execution_count": 81,
   "id": "4055bc747a264a95",
   "metadata": {
    "ExecuteTime": {
     "end_time": "2024-10-03T19:49:21.242257Z",
     "start_time": "2024-10-03T19:49:21.239385Z"
    },
    "collapsed": false,
    "jupyter": {
     "outputs_hidden": false
    }
   },
   "outputs": [
    {
     "name": "stdout",
     "output_type": "stream",
     "text": [
      "Index(['gameId', 'playId', 'playDescription', 'quarter', 'down', 'yardsToGo',\n",
      "       'possessionTeam', 'defensiveTeam', 'yardlineSide', 'yardlineNumber',\n",
      "       'gameClock', 'preSnapHomeScore', 'preSnapVisitorScore', 'passResult',\n",
      "       'penaltyYards', 'prePenaltyPlayResult', 'playResult', 'foulName1',\n",
      "       'foulNFLId1', 'foulName2', 'foulNFLId2', 'foulName3', 'foulNFLId3',\n",
      "       'absoluteYardlineNumber', 'offenseFormation', 'personnelO',\n",
      "       'defendersInBox', 'personnelD', 'dropBackType', 'pff_playAction',\n",
      "       'pff_passCoverage', 'pff_passCoverageType'],\n",
      "      dtype='object')\n"
     ]
    }
   ],
   "source": [
    "print(plays.columns)"
   ]
  },
  {
   "cell_type": "markdown",
   "id": "faad9dc5-d034-46d9-b8b1-a7fdd7dabbd8",
   "metadata": {},
   "source": [
    "In the plays dataframe, we have access to relevant play information from both the defensive and offensive perspective."
   ]
  },
  {
   "cell_type": "code",
   "execution_count": 82,
   "id": "aae4a47600a0384",
   "metadata": {
    "ExecuteTime": {
     "end_time": "2024-10-03T19:49:21.251591Z",
     "start_time": "2024-10-03T19:49:21.242928Z"
    },
    "collapsed": false,
    "jupyter": {
     "outputs_hidden": false
    }
   },
   "outputs": [
    {
     "name": "stdout",
     "output_type": "stream",
     "text": [
      "<class 'pandas.core.frame.DataFrame'>\n",
      "RangeIndex: 8557 entries, 0 to 8556\n",
      "Data columns (total 25 columns):\n",
      " #   Column                  Non-Null Count  Dtype  \n",
      "---  ------                  --------------  -----  \n",
      " 0   gameId                  8557 non-null   int64  \n",
      " 1   playId                  8557 non-null   int64  \n",
      " 2   playDescription         8557 non-null   object \n",
      " 3   quarter                 8557 non-null   int64  \n",
      " 4   down                    8557 non-null   int64  \n",
      " 5   yardsToGo               8557 non-null   int64  \n",
      " 6   possessionTeam          8557 non-null   object \n",
      " 7   defensiveTeam           8557 non-null   object \n",
      " 8   yardlineSide            8432 non-null   object \n",
      " 9   yardlineNumber          8557 non-null   int64  \n",
      " 10  gameClock               8557 non-null   object \n",
      " 11  preSnapHomeScore        8557 non-null   int64  \n",
      " 12  preSnapVisitorScore     8557 non-null   int64  \n",
      " 13  passResult              8557 non-null   object \n",
      " 14  prePenaltyPlayResult    8557 non-null   int64  \n",
      " 15  playResult              8557 non-null   int64  \n",
      " 16  absoluteYardlineNumber  8556 non-null   float64\n",
      " 17  offenseFormation        8550 non-null   object \n",
      " 18  personnelO              8556 non-null   object \n",
      " 19  defendersInBox          8550 non-null   float64\n",
      " 20  personnelD              8556 non-null   object \n",
      " 21  dropBackType            8029 non-null   object \n",
      " 22  pff_playAction          8557 non-null   int64  \n",
      " 23  pff_passCoverage        8557 non-null   object \n",
      " 24  pff_passCoverageType    8557 non-null   object \n",
      "dtypes: float64(2), int64(11), object(12)\n",
      "memory usage: 1.6+ MB\n"
     ]
    }
   ],
   "source": [
    "plays = plays.drop(columns=['penaltyYards', 'foulName1', 'foulNFLId1', 'foulName2', 'foulNFLId2', 'foulName3', 'foulNFLId3'])\n",
    "\n",
    "plays.info()"
   ]
  },
  {
   "cell_type": "markdown",
   "id": "6556682d-06e3-4570-9c20-df111d4dd4ce",
   "metadata": {},
   "source": [
    "As we have some columns with null values and seeing as a football play combines various attributes on both the offense and defense, filling in null values with methods like the most common occurrence or the mean doesn't make sense here. We'll just eliminate rows where any column is null."
   ]
  },
  {
   "cell_type": "code",
   "execution_count": 83,
   "id": "38b7469589b320c7",
   "metadata": {
    "ExecuteTime": {
     "end_time": "2024-10-03T19:49:21.262680Z",
     "start_time": "2024-10-03T19:49:21.252947Z"
    },
    "collapsed": false,
    "jupyter": {
     "outputs_hidden": false
    }
   },
   "outputs": [
    {
     "name": "stdout",
     "output_type": "stream",
     "text": [
      "<class 'pandas.core.frame.DataFrame'>\n",
      "Index: 8425 entries, 0 to 8556\n",
      "Data columns (total 25 columns):\n",
      " #   Column                  Non-Null Count  Dtype  \n",
      "---  ------                  --------------  -----  \n",
      " 0   gameId                  8425 non-null   int64  \n",
      " 1   playId                  8425 non-null   int64  \n",
      " 2   playDescription         8425 non-null   object \n",
      " 3   quarter                 8425 non-null   int64  \n",
      " 4   down                    8425 non-null   int64  \n",
      " 5   yardsToGo               8425 non-null   int64  \n",
      " 6   possessionTeam          8425 non-null   object \n",
      " 7   defensiveTeam           8425 non-null   object \n",
      " 8   yardlineSide            8425 non-null   object \n",
      " 9   yardlineNumber          8425 non-null   int64  \n",
      " 10  gameClock               8425 non-null   object \n",
      " 11  preSnapHomeScore        8425 non-null   int64  \n",
      " 12  preSnapVisitorScore     8425 non-null   int64  \n",
      " 13  passResult              8425 non-null   object \n",
      " 14  prePenaltyPlayResult    8425 non-null   int64  \n",
      " 15  playResult              8425 non-null   int64  \n",
      " 16  absoluteYardlineNumber  8425 non-null   float64\n",
      " 17  offenseFormation        8425 non-null   object \n",
      " 18  personnelO              8425 non-null   object \n",
      " 19  defendersInBox          8425 non-null   float64\n",
      " 20  personnelD              8425 non-null   object \n",
      " 21  dropBackType            7911 non-null   object \n",
      " 22  pff_playAction          8425 non-null   int64  \n",
      " 23  pff_passCoverage        8425 non-null   object \n",
      " 24  pff_passCoverageType    8425 non-null   object \n",
      "dtypes: float64(2), int64(11), object(12)\n",
      "memory usage: 1.7+ MB\n"
     ]
    }
   ],
   "source": [
    "plays = plays.dropna(subset=['offenseFormation', 'personnelO', 'defendersInBox', 'personnelD', 'absoluteYardlineNumber', 'yardlineSide'])\n",
    "\n",
    "plays.info()"
   ]
  },
  {
   "cell_type": "code",
   "execution_count": 84,
   "id": "a732d445ad48500d",
   "metadata": {
    "ExecuteTime": {
     "end_time": "2024-10-03T19:49:21.265966Z",
     "start_time": "2024-10-03T19:49:21.263536Z"
    },
    "collapsed": false,
    "jupyter": {
     "outputs_hidden": false
    }
   },
   "outputs": [],
   "source": [
    "def get_dnd(dn, dis):\n",
    "    if dn == 1 and dis == 10:\n",
    "        return \"1ST & 10\"\n",
    "    if dn == 1:\n",
    "        dn_str = \"1ST\"\n",
    "    elif dn == 2:\n",
    "        dn_str = \"2ND\"\n",
    "    elif dn == 3:\n",
    "        dn_str = \"3RD\"\n",
    "    else:\n",
    "        dn_str = \"4TH\"\n",
    "    if 1 <= dis <= 3:\n",
    "        dis_str = \"SHORT\"\n",
    "    elif 3 < dis <= 6:\n",
    "        dis_str = \"MED\"\n",
    "    elif 6 < dis <= 10:\n",
    "        dis_str = \"LONG\"\n",
    "    else:\n",
    "        dis_str = \"XL\"\n",
    "        \n",
    "    return f\"{dn_str} & {dis_str}\""
   ]
  },
  {
   "cell_type": "markdown",
   "id": "13ab4250-4bff-4313-935c-51b6cf667178",
   "metadata": {},
   "source": [
    "We'll add buckets representing down and distance to go to get a first down. Prior to this, down and distance to go were two separate variables. Creating these categorical variables can help us down the line in our EDA and potentially during model building."
   ]
  },
  {
   "cell_type": "code",
   "execution_count": 85,
   "id": "fee315520ce3cdf4",
   "metadata": {
    "ExecuteTime": {
     "end_time": "2024-10-03T19:49:21.294879Z",
     "start_time": "2024-10-03T19:49:21.266821Z"
    },
    "collapsed": false,
    "jupyter": {
     "outputs_hidden": false
    }
   },
   "outputs": [],
   "source": [
    "plays.insert(6, 'DND', plays.apply(lambda row: get_dnd(row['down'], row['yardsToGo']), axis=1))"
   ]
  },
  {
   "cell_type": "code",
   "execution_count": 86,
   "id": "ea41ed6a262e308",
   "metadata": {
    "ExecuteTime": {
     "end_time": "2024-10-03T19:49:21.298322Z",
     "start_time": "2024-10-03T19:49:21.295573Z"
    },
    "collapsed": false,
    "jupyter": {
     "outputs_hidden": false
    }
   },
   "outputs": [
    {
     "data": {
      "text/plain": [
       "gameId                      int64\n",
       "playId                      int64\n",
       "playDescription            object\n",
       "quarter                     int64\n",
       "down                        int64\n",
       "yardsToGo                   int64\n",
       "DND                        object\n",
       "possessionTeam             object\n",
       "defensiveTeam              object\n",
       "yardlineSide               object\n",
       "yardlineNumber              int64\n",
       "gameClock                  object\n",
       "preSnapHomeScore            int64\n",
       "preSnapVisitorScore         int64\n",
       "passResult                 object\n",
       "prePenaltyPlayResult        int64\n",
       "playResult                  int64\n",
       "absoluteYardlineNumber    float64\n",
       "offenseFormation           object\n",
       "personnelO                 object\n",
       "defendersInBox            float64\n",
       "personnelD                 object\n",
       "dropBackType               object\n",
       "pff_playAction              int64\n",
       "pff_passCoverage           object\n",
       "pff_passCoverageType       object\n",
       "dtype: object"
      ]
     },
     "execution_count": 86,
     "metadata": {},
     "output_type": "execute_result"
    }
   ],
   "source": [
    "plays.dtypes"
   ]
  },
  {
   "cell_type": "code",
   "execution_count": 87,
   "id": "1aa74f1826891f4a",
   "metadata": {
    "ExecuteTime": {
     "end_time": "2024-10-03T19:49:21.311996Z",
     "start_time": "2024-10-03T19:49:21.299081Z"
    },
    "collapsed": false,
    "jupyter": {
     "outputs_hidden": false
    }
   },
   "outputs": [
    {
     "data": {
      "text/html": [
       "<div>\n",
       "<style scoped>\n",
       "    .dataframe tbody tr th:only-of-type {\n",
       "        vertical-align: middle;\n",
       "    }\n",
       "\n",
       "    .dataframe tbody tr th {\n",
       "        vertical-align: top;\n",
       "    }\n",
       "\n",
       "    .dataframe thead th {\n",
       "        text-align: right;\n",
       "    }\n",
       "</style>\n",
       "<table border=\"1\" class=\"dataframe\">\n",
       "  <thead>\n",
       "    <tr style=\"text-align: right;\">\n",
       "      <th></th>\n",
       "      <th>gameId</th>\n",
       "      <th>playId</th>\n",
       "      <th>quarter</th>\n",
       "      <th>down</th>\n",
       "      <th>yardsToGo</th>\n",
       "      <th>yardlineNumber</th>\n",
       "      <th>preSnapHomeScore</th>\n",
       "      <th>preSnapVisitorScore</th>\n",
       "      <th>prePenaltyPlayResult</th>\n",
       "      <th>playResult</th>\n",
       "      <th>absoluteYardlineNumber</th>\n",
       "      <th>defendersInBox</th>\n",
       "      <th>pff_playAction</th>\n",
       "    </tr>\n",
       "  </thead>\n",
       "  <tbody>\n",
       "    <tr>\n",
       "      <th>count</th>\n",
       "      <td>8.425000e+03</td>\n",
       "      <td>8425.000000</td>\n",
       "      <td>8425.000000</td>\n",
       "      <td>8425.000000</td>\n",
       "      <td>8425.000000</td>\n",
       "      <td>8425.000000</td>\n",
       "      <td>8425.000000</td>\n",
       "      <td>8425.000000</td>\n",
       "      <td>8425.000000</td>\n",
       "      <td>8425.000000</td>\n",
       "      <td>8425.000000</td>\n",
       "      <td>8425.000000</td>\n",
       "      <td>8425.000000</td>\n",
       "    </tr>\n",
       "    <tr>\n",
       "      <th>mean</th>\n",
       "      <td>2.021098e+09</td>\n",
       "      <td>2158.643205</td>\n",
       "      <td>2.617804</td>\n",
       "      <td>1.967478</td>\n",
       "      <td>8.710861</td>\n",
       "      <td>29.606291</td>\n",
       "      <td>11.674065</td>\n",
       "      <td>11.248309</td>\n",
       "      <td>6.488190</td>\n",
       "      <td>6.548605</td>\n",
       "      <td>59.247359</td>\n",
       "      <td>6.024926</td>\n",
       "      <td>0.237982</td>\n",
       "    </tr>\n",
       "    <tr>\n",
       "      <th>std</th>\n",
       "      <td>4.966439e+03</td>\n",
       "      <td>1222.925733</td>\n",
       "      <td>1.132347</td>\n",
       "      <td>0.872518</td>\n",
       "      <td>3.907156</td>\n",
       "      <td>12.352900</td>\n",
       "      <td>9.830043</td>\n",
       "      <td>10.022213</td>\n",
       "      <td>10.176266</td>\n",
       "      <td>10.596302</td>\n",
       "      <td>23.832338</td>\n",
       "      <td>1.004782</td>\n",
       "      <td>0.425873</td>\n",
       "    </tr>\n",
       "    <tr>\n",
       "      <th>min</th>\n",
       "      <td>2.021091e+09</td>\n",
       "      <td>54.000000</td>\n",
       "      <td>1.000000</td>\n",
       "      <td>0.000000</td>\n",
       "      <td>0.000000</td>\n",
       "      <td>1.000000</td>\n",
       "      <td>0.000000</td>\n",
       "      <td>0.000000</td>\n",
       "      <td>-34.000000</td>\n",
       "      <td>-34.000000</td>\n",
       "      <td>11.000000</td>\n",
       "      <td>1.000000</td>\n",
       "      <td>0.000000</td>\n",
       "    </tr>\n",
       "    <tr>\n",
       "      <th>25%</th>\n",
       "      <td>2.021092e+09</td>\n",
       "      <td>1126.000000</td>\n",
       "      <td>2.000000</td>\n",
       "      <td>1.000000</td>\n",
       "      <td>6.000000</td>\n",
       "      <td>22.000000</td>\n",
       "      <td>3.000000</td>\n",
       "      <td>3.000000</td>\n",
       "      <td>0.000000</td>\n",
       "      <td>0.000000</td>\n",
       "      <td>39.000000</td>\n",
       "      <td>5.000000</td>\n",
       "      <td>0.000000</td>\n",
       "    </tr>\n",
       "    <tr>\n",
       "      <th>50%</th>\n",
       "      <td>2.021100e+09</td>\n",
       "      <td>2156.000000</td>\n",
       "      <td>3.000000</td>\n",
       "      <td>2.000000</td>\n",
       "      <td>10.000000</td>\n",
       "      <td>30.000000</td>\n",
       "      <td>10.000000</td>\n",
       "      <td>10.000000</td>\n",
       "      <td>4.000000</td>\n",
       "      <td>5.000000</td>\n",
       "      <td>58.000000</td>\n",
       "      <td>6.000000</td>\n",
       "      <td>0.000000</td>\n",
       "    </tr>\n",
       "    <tr>\n",
       "      <th>75%</th>\n",
       "      <td>2.021102e+09</td>\n",
       "      <td>3196.000000</td>\n",
       "      <td>4.000000</td>\n",
       "      <td>3.000000</td>\n",
       "      <td>10.000000</td>\n",
       "      <td>40.000000</td>\n",
       "      <td>17.000000</td>\n",
       "      <td>17.000000</td>\n",
       "      <td>10.000000</td>\n",
       "      <td>11.000000</td>\n",
       "      <td>79.000000</td>\n",
       "      <td>7.000000</td>\n",
       "      <td>0.000000</td>\n",
       "    </tr>\n",
       "    <tr>\n",
       "      <th>max</th>\n",
       "      <td>2.021110e+09</td>\n",
       "      <td>5223.000000</td>\n",
       "      <td>5.000000</td>\n",
       "      <td>4.000000</td>\n",
       "      <td>39.000000</td>\n",
       "      <td>49.000000</td>\n",
       "      <td>54.000000</td>\n",
       "      <td>44.000000</td>\n",
       "      <td>91.000000</td>\n",
       "      <td>91.000000</td>\n",
       "      <td>109.000000</td>\n",
       "      <td>11.000000</td>\n",
       "      <td>1.000000</td>\n",
       "    </tr>\n",
       "  </tbody>\n",
       "</table>\n",
       "</div>"
      ],
      "text/plain": [
       "             gameId       playId      quarter         down    yardsToGo  \\\n",
       "count  8.425000e+03  8425.000000  8425.000000  8425.000000  8425.000000   \n",
       "mean   2.021098e+09  2158.643205     2.617804     1.967478     8.710861   \n",
       "std    4.966439e+03  1222.925733     1.132347     0.872518     3.907156   \n",
       "min    2.021091e+09    54.000000     1.000000     0.000000     0.000000   \n",
       "25%    2.021092e+09  1126.000000     2.000000     1.000000     6.000000   \n",
       "50%    2.021100e+09  2156.000000     3.000000     2.000000    10.000000   \n",
       "75%    2.021102e+09  3196.000000     4.000000     3.000000    10.000000   \n",
       "max    2.021110e+09  5223.000000     5.000000     4.000000    39.000000   \n",
       "\n",
       "       yardlineNumber  preSnapHomeScore  preSnapVisitorScore  \\\n",
       "count     8425.000000       8425.000000          8425.000000   \n",
       "mean        29.606291         11.674065            11.248309   \n",
       "std         12.352900          9.830043            10.022213   \n",
       "min          1.000000          0.000000             0.000000   \n",
       "25%         22.000000          3.000000             3.000000   \n",
       "50%         30.000000         10.000000            10.000000   \n",
       "75%         40.000000         17.000000            17.000000   \n",
       "max         49.000000         54.000000            44.000000   \n",
       "\n",
       "       prePenaltyPlayResult   playResult  absoluteYardlineNumber  \\\n",
       "count           8425.000000  8425.000000             8425.000000   \n",
       "mean               6.488190     6.548605               59.247359   \n",
       "std               10.176266    10.596302               23.832338   \n",
       "min              -34.000000   -34.000000               11.000000   \n",
       "25%                0.000000     0.000000               39.000000   \n",
       "50%                4.000000     5.000000               58.000000   \n",
       "75%               10.000000    11.000000               79.000000   \n",
       "max               91.000000    91.000000              109.000000   \n",
       "\n",
       "       defendersInBox  pff_playAction  \n",
       "count     8425.000000     8425.000000  \n",
       "mean         6.024926        0.237982  \n",
       "std          1.004782        0.425873  \n",
       "min          1.000000        0.000000  \n",
       "25%          5.000000        0.000000  \n",
       "50%          6.000000        0.000000  \n",
       "75%          7.000000        0.000000  \n",
       "max         11.000000        1.000000  "
      ]
     },
     "execution_count": 87,
     "metadata": {},
     "output_type": "execute_result"
    }
   ],
   "source": [
    "plays.describe()"
   ]
  },
  {
   "cell_type": "code",
   "execution_count": 88,
   "id": "1fb309dcdbdbdcc9",
   "metadata": {
    "ExecuteTime": {
     "end_time": "2024-10-03T19:49:24.400673Z",
     "start_time": "2024-10-03T19:49:24.388187Z"
    },
    "collapsed": false,
    "jupyter": {
     "outputs_hidden": false
    }
   },
   "outputs": [
    {
     "data": {
      "text/html": [
       "<div>\n",
       "<style scoped>\n",
       "    .dataframe tbody tr th:only-of-type {\n",
       "        vertical-align: middle;\n",
       "    }\n",
       "\n",
       "    .dataframe tbody tr th {\n",
       "        vertical-align: top;\n",
       "    }\n",
       "\n",
       "    .dataframe thead th {\n",
       "        text-align: right;\n",
       "    }\n",
       "</style>\n",
       "<table border=\"1\" class=\"dataframe\">\n",
       "  <thead>\n",
       "    <tr style=\"text-align: right;\">\n",
       "      <th></th>\n",
       "      <th>gameId</th>\n",
       "      <th>playId</th>\n",
       "      <th>playDescription</th>\n",
       "      <th>quarter</th>\n",
       "      <th>down</th>\n",
       "      <th>yardsToGo</th>\n",
       "      <th>DND</th>\n",
       "      <th>possessionTeam</th>\n",
       "      <th>defensiveTeam</th>\n",
       "      <th>yardlineSide</th>\n",
       "      <th>...</th>\n",
       "      <th>playResult</th>\n",
       "      <th>absoluteYardlineNumber</th>\n",
       "      <th>offenseFormation</th>\n",
       "      <th>personnelO</th>\n",
       "      <th>defendersInBox</th>\n",
       "      <th>personnelD</th>\n",
       "      <th>dropBackType</th>\n",
       "      <th>pff_playAction</th>\n",
       "      <th>pff_passCoverage</th>\n",
       "      <th>pff_passCoverageType</th>\n",
       "    </tr>\n",
       "  </thead>\n",
       "  <tbody>\n",
       "    <tr>\n",
       "      <th>0</th>\n",
       "      <td>2021090900</td>\n",
       "      <td>97</td>\n",
       "      <td>(13:33) (Shotgun) T.Brady pass incomplete deep...</td>\n",
       "      <td>1</td>\n",
       "      <td>3</td>\n",
       "      <td>2</td>\n",
       "      <td>3RD &amp; SHORT</td>\n",
       "      <td>TB</td>\n",
       "      <td>DAL</td>\n",
       "      <td>TB</td>\n",
       "      <td>...</td>\n",
       "      <td>0</td>\n",
       "      <td>43.0</td>\n",
       "      <td>SHOTGUN</td>\n",
       "      <td>1 RB, 1 TE, 3 WR</td>\n",
       "      <td>6.0</td>\n",
       "      <td>4 DL, 2 LB, 5 DB</td>\n",
       "      <td>TRADITIONAL</td>\n",
       "      <td>0</td>\n",
       "      <td>Cover-1</td>\n",
       "      <td>Man</td>\n",
       "    </tr>\n",
       "    <tr>\n",
       "      <th>1</th>\n",
       "      <td>2021090900</td>\n",
       "      <td>137</td>\n",
       "      <td>(13:18) (Shotgun) D.Prescott pass deep left to...</td>\n",
       "      <td>1</td>\n",
       "      <td>1</td>\n",
       "      <td>10</td>\n",
       "      <td>1ST &amp; 10</td>\n",
       "      <td>DAL</td>\n",
       "      <td>TB</td>\n",
       "      <td>DAL</td>\n",
       "      <td>...</td>\n",
       "      <td>28</td>\n",
       "      <td>108.0</td>\n",
       "      <td>EMPTY</td>\n",
       "      <td>1 RB, 2 TE, 2 WR</td>\n",
       "      <td>6.0</td>\n",
       "      <td>4 DL, 4 LB, 3 DB</td>\n",
       "      <td>TRADITIONAL</td>\n",
       "      <td>0</td>\n",
       "      <td>Cover-3</td>\n",
       "      <td>Zone</td>\n",
       "    </tr>\n",
       "    <tr>\n",
       "      <th>2</th>\n",
       "      <td>2021090900</td>\n",
       "      <td>187</td>\n",
       "      <td>(12:23) (Shotgun) D.Prescott pass short middle...</td>\n",
       "      <td>1</td>\n",
       "      <td>2</td>\n",
       "      <td>6</td>\n",
       "      <td>2ND &amp; MED</td>\n",
       "      <td>DAL</td>\n",
       "      <td>TB</td>\n",
       "      <td>DAL</td>\n",
       "      <td>...</td>\n",
       "      <td>5</td>\n",
       "      <td>76.0</td>\n",
       "      <td>SHOTGUN</td>\n",
       "      <td>0 RB, 2 TE, 3 WR</td>\n",
       "      <td>6.0</td>\n",
       "      <td>3 DL, 3 LB, 5 DB</td>\n",
       "      <td>TRADITIONAL</td>\n",
       "      <td>0</td>\n",
       "      <td>Cover-3</td>\n",
       "      <td>Zone</td>\n",
       "    </tr>\n",
       "    <tr>\n",
       "      <th>3</th>\n",
       "      <td>2021090900</td>\n",
       "      <td>282</td>\n",
       "      <td>(9:56) D.Prescott pass incomplete deep left to...</td>\n",
       "      <td>1</td>\n",
       "      <td>1</td>\n",
       "      <td>10</td>\n",
       "      <td>1ST &amp; 10</td>\n",
       "      <td>DAL</td>\n",
       "      <td>TB</td>\n",
       "      <td>TB</td>\n",
       "      <td>...</td>\n",
       "      <td>0</td>\n",
       "      <td>49.0</td>\n",
       "      <td>SINGLEBACK</td>\n",
       "      <td>1 RB, 2 TE, 2 WR</td>\n",
       "      <td>6.0</td>\n",
       "      <td>4 DL, 3 LB, 4 DB</td>\n",
       "      <td>TRADITIONAL</td>\n",
       "      <td>1</td>\n",
       "      <td>Cover-3</td>\n",
       "      <td>Zone</td>\n",
       "    </tr>\n",
       "    <tr>\n",
       "      <th>4</th>\n",
       "      <td>2021090900</td>\n",
       "      <td>349</td>\n",
       "      <td>(9:46) (Shotgun) D.Prescott pass incomplete sh...</td>\n",
       "      <td>1</td>\n",
       "      <td>3</td>\n",
       "      <td>15</td>\n",
       "      <td>3RD &amp; XL</td>\n",
       "      <td>DAL</td>\n",
       "      <td>TB</td>\n",
       "      <td>TB</td>\n",
       "      <td>...</td>\n",
       "      <td>0</td>\n",
       "      <td>54.0</td>\n",
       "      <td>SHOTGUN</td>\n",
       "      <td>1 RB, 1 TE, 3 WR</td>\n",
       "      <td>7.0</td>\n",
       "      <td>3 DL, 4 LB, 4 DB</td>\n",
       "      <td>TRADITIONAL</td>\n",
       "      <td>0</td>\n",
       "      <td>Cover-3</td>\n",
       "      <td>Zone</td>\n",
       "    </tr>\n",
       "  </tbody>\n",
       "</table>\n",
       "<p>5 rows × 26 columns</p>\n",
       "</div>"
      ],
      "text/plain": [
       "       gameId  playId                                    playDescription  \\\n",
       "0  2021090900      97  (13:33) (Shotgun) T.Brady pass incomplete deep...   \n",
       "1  2021090900     137  (13:18) (Shotgun) D.Prescott pass deep left to...   \n",
       "2  2021090900     187  (12:23) (Shotgun) D.Prescott pass short middle...   \n",
       "3  2021090900     282  (9:56) D.Prescott pass incomplete deep left to...   \n",
       "4  2021090900     349  (9:46) (Shotgun) D.Prescott pass incomplete sh...   \n",
       "\n",
       "   quarter  down  yardsToGo          DND possessionTeam defensiveTeam  \\\n",
       "0        1     3          2  3RD & SHORT             TB           DAL   \n",
       "1        1     1         10     1ST & 10            DAL            TB   \n",
       "2        1     2          6    2ND & MED            DAL            TB   \n",
       "3        1     1         10     1ST & 10            DAL            TB   \n",
       "4        1     3         15     3RD & XL            DAL            TB   \n",
       "\n",
       "  yardlineSide  ...  playResult absoluteYardlineNumber  offenseFormation  \\\n",
       "0           TB  ...           0                   43.0           SHOTGUN   \n",
       "1          DAL  ...          28                  108.0             EMPTY   \n",
       "2          DAL  ...           5                   76.0           SHOTGUN   \n",
       "3           TB  ...           0                   49.0        SINGLEBACK   \n",
       "4           TB  ...           0                   54.0           SHOTGUN   \n",
       "\n",
       "         personnelO defendersInBox        personnelD  dropBackType  \\\n",
       "0  1 RB, 1 TE, 3 WR            6.0  4 DL, 2 LB, 5 DB   TRADITIONAL   \n",
       "1  1 RB, 2 TE, 2 WR            6.0  4 DL, 4 LB, 3 DB   TRADITIONAL   \n",
       "2  0 RB, 2 TE, 3 WR            6.0  3 DL, 3 LB, 5 DB   TRADITIONAL   \n",
       "3  1 RB, 2 TE, 2 WR            6.0  4 DL, 3 LB, 4 DB   TRADITIONAL   \n",
       "4  1 RB, 1 TE, 3 WR            7.0  3 DL, 4 LB, 4 DB   TRADITIONAL   \n",
       "\n",
       "   pff_playAction pff_passCoverage pff_passCoverageType  \n",
       "0               0          Cover-1                  Man  \n",
       "1               0          Cover-3                 Zone  \n",
       "2               0          Cover-3                 Zone  \n",
       "3               1          Cover-3                 Zone  \n",
       "4               0          Cover-3                 Zone  \n",
       "\n",
       "[5 rows x 26 columns]"
      ]
     },
     "execution_count": 88,
     "metadata": {},
     "output_type": "execute_result"
    }
   ],
   "source": [
    "plays.head()"
   ]
  },
  {
   "cell_type": "code",
   "execution_count": 89,
   "id": "a0cc0c4ca0563710",
   "metadata": {
    "ExecuteTime": {
     "end_time": "2024-10-03T19:07:49.060278Z",
     "start_time": "2024-10-03T19:07:49.054986Z"
    },
    "collapsed": false,
    "jupyter": {
     "outputs_hidden": false
    }
   },
   "outputs": [
    {
     "data": {
      "text/html": [
       "<div>\n",
       "<style scoped>\n",
       "    .dataframe tbody tr th:only-of-type {\n",
       "        vertical-align: middle;\n",
       "    }\n",
       "\n",
       "    .dataframe tbody tr th {\n",
       "        vertical-align: top;\n",
       "    }\n",
       "\n",
       "    .dataframe thead th {\n",
       "        text-align: right;\n",
       "    }\n",
       "</style>\n",
       "<table border=\"1\" class=\"dataframe\">\n",
       "  <thead>\n",
       "    <tr style=\"text-align: right;\">\n",
       "      <th></th>\n",
       "      <th>gameId</th>\n",
       "      <th>season</th>\n",
       "      <th>week</th>\n",
       "      <th>gameDate</th>\n",
       "      <th>gameTimeEastern</th>\n",
       "      <th>homeTeamAbbr</th>\n",
       "      <th>visitorTeamAbbr</th>\n",
       "    </tr>\n",
       "  </thead>\n",
       "  <tbody>\n",
       "    <tr>\n",
       "      <th>0</th>\n",
       "      <td>2021090900</td>\n",
       "      <td>2021</td>\n",
       "      <td>1</td>\n",
       "      <td>09/09/2021</td>\n",
       "      <td>20:20:00</td>\n",
       "      <td>TB</td>\n",
       "      <td>DAL</td>\n",
       "    </tr>\n",
       "    <tr>\n",
       "      <th>1</th>\n",
       "      <td>2021091200</td>\n",
       "      <td>2021</td>\n",
       "      <td>1</td>\n",
       "      <td>09/12/2021</td>\n",
       "      <td>13:00:00</td>\n",
       "      <td>ATL</td>\n",
       "      <td>PHI</td>\n",
       "    </tr>\n",
       "    <tr>\n",
       "      <th>2</th>\n",
       "      <td>2021091201</td>\n",
       "      <td>2021</td>\n",
       "      <td>1</td>\n",
       "      <td>09/12/2021</td>\n",
       "      <td>13:00:00</td>\n",
       "      <td>BUF</td>\n",
       "      <td>PIT</td>\n",
       "    </tr>\n",
       "    <tr>\n",
       "      <th>3</th>\n",
       "      <td>2021091202</td>\n",
       "      <td>2021</td>\n",
       "      <td>1</td>\n",
       "      <td>09/12/2021</td>\n",
       "      <td>13:00:00</td>\n",
       "      <td>CAR</td>\n",
       "      <td>NYJ</td>\n",
       "    </tr>\n",
       "    <tr>\n",
       "      <th>4</th>\n",
       "      <td>2021091203</td>\n",
       "      <td>2021</td>\n",
       "      <td>1</td>\n",
       "      <td>09/12/2021</td>\n",
       "      <td>13:00:00</td>\n",
       "      <td>CIN</td>\n",
       "      <td>MIN</td>\n",
       "    </tr>\n",
       "  </tbody>\n",
       "</table>\n",
       "</div>"
      ],
      "text/plain": [
       "       gameId  season  week    gameDate gameTimeEastern homeTeamAbbr  \\\n",
       "0  2021090900    2021     1  09/09/2021        20:20:00           TB   \n",
       "1  2021091200    2021     1  09/12/2021        13:00:00          ATL   \n",
       "2  2021091201    2021     1  09/12/2021        13:00:00          BUF   \n",
       "3  2021091202    2021     1  09/12/2021        13:00:00          CAR   \n",
       "4  2021091203    2021     1  09/12/2021        13:00:00          CIN   \n",
       "\n",
       "  visitorTeamAbbr  \n",
       "0             DAL  \n",
       "1             PHI  \n",
       "2             PIT  \n",
       "3             NYJ  \n",
       "4             MIN  "
      ]
     },
     "execution_count": 89,
     "metadata": {},
     "output_type": "execute_result"
    }
   ],
   "source": [
    "file = 'nfl-big-data-bowl-2023/games.csv'\n",
    "\n",
    "games = pd.read_csv(file)\n",
    "\n",
    "games.head()"
   ]
  },
  {
   "cell_type": "code",
   "execution_count": 90,
   "id": "32a6377253a2c792",
   "metadata": {
    "ExecuteTime": {
     "end_time": "2024-10-03T19:07:49.065755Z",
     "start_time": "2024-10-03T19:07:49.062195Z"
    },
    "collapsed": false,
    "jupyter": {
     "outputs_hidden": false
    }
   },
   "outputs": [
    {
     "data": {
      "text/html": [
       "<div>\n",
       "<style scoped>\n",
       "    .dataframe tbody tr th:only-of-type {\n",
       "        vertical-align: middle;\n",
       "    }\n",
       "\n",
       "    .dataframe tbody tr th {\n",
       "        vertical-align: top;\n",
       "    }\n",
       "\n",
       "    .dataframe thead th {\n",
       "        text-align: right;\n",
       "    }\n",
       "</style>\n",
       "<table border=\"1\" class=\"dataframe\">\n",
       "  <thead>\n",
       "    <tr style=\"text-align: right;\">\n",
       "      <th></th>\n",
       "      <th>gameId</th>\n",
       "      <th>playId</th>\n",
       "    </tr>\n",
       "  </thead>\n",
       "  <tbody>\n",
       "    <tr>\n",
       "      <th>0</th>\n",
       "      <td>2021090900</td>\n",
       "      <td>97</td>\n",
       "    </tr>\n",
       "    <tr>\n",
       "      <th>1</th>\n",
       "      <td>2021090900</td>\n",
       "      <td>137</td>\n",
       "    </tr>\n",
       "    <tr>\n",
       "      <th>2</th>\n",
       "      <td>2021090900</td>\n",
       "      <td>187</td>\n",
       "    </tr>\n",
       "    <tr>\n",
       "      <th>3</th>\n",
       "      <td>2021090900</td>\n",
       "      <td>282</td>\n",
       "    </tr>\n",
       "    <tr>\n",
       "      <th>4</th>\n",
       "      <td>2021090900</td>\n",
       "      <td>349</td>\n",
       "    </tr>\n",
       "  </tbody>\n",
       "</table>\n",
       "</div>"
      ],
      "text/plain": [
       "       gameId  playId\n",
       "0  2021090900      97\n",
       "1  2021090900     137\n",
       "2  2021090900     187\n",
       "3  2021090900     282\n",
       "4  2021090900     349"
      ]
     },
     "execution_count": 90,
     "metadata": {},
     "output_type": "execute_result"
    }
   ],
   "source": [
    "reference_df = plays[['gameId', 'playId']]\n",
    "\n",
    "reference_df.head()"
   ]
  },
  {
   "cell_type": "markdown",
   "id": "de54d066-963b-4b5a-a5ce-e1ddfb6269c0",
   "metadata": {},
   "source": [
    "Reference_df contains only the gameId, playId pairs which combined together are unique values during the 2021 season."
   ]
  },
  {
   "cell_type": "code",
   "execution_count": 91,
   "id": "6b2a46a178ec045f",
   "metadata": {
    "ExecuteTime": {
     "end_time": "2024-10-03T19:07:55.332154Z",
     "start_time": "2024-10-03T19:07:49.066461Z"
    },
    "collapsed": false,
    "jupyter": {
     "outputs_hidden": false
    }
   },
   "outputs": [
    {
     "name": "stdout",
     "output_type": "stream",
     "text": [
      "<class 'pandas.core.frame.DataFrame'>\n",
      "RangeIndex: 1118122 entries, 0 to 1118121\n",
      "Data columns (total 16 columns):\n",
      " #   Column         Non-Null Count    Dtype  \n",
      "---  ------         --------------    -----  \n",
      " 0   gameId         1118122 non-null  int64  \n",
      " 1   playId         1118122 non-null  int64  \n",
      " 2   nflId          1069508 non-null  float64\n",
      " 3   frameId        1118122 non-null  int64  \n",
      " 4   time           1118122 non-null  object \n",
      " 5   jerseyNumber   1069508 non-null  float64\n",
      " 6   team           1118122 non-null  object \n",
      " 7   playDirection  1118122 non-null  object \n",
      " 8   x              1118122 non-null  float64\n",
      " 9   y              1118122 non-null  float64\n",
      " 10  s              1118122 non-null  float64\n",
      " 11  a              1118122 non-null  float64\n",
      " 12  dis            1118122 non-null  float64\n",
      " 13  o              1069508 non-null  float64\n",
      " 14  dir            1069508 non-null  float64\n",
      " 15  event          89585 non-null    object \n",
      "dtypes: float64(9), int64(3), object(4)\n",
      "memory usage: 136.5+ MB\n"
     ]
    }
   ],
   "source": [
    "weeks = ['week1', 'week2', 'week3', 'week4', 'week5', 'week6', 'week7', 'week8']\n",
    "\n",
    "dfs = []\n",
    "for week in weeks:\n",
    "    file = f'nfl-big-data-bowl-2023/{week}.csv'\n",
    "    dfs.append(pd.read_csv(file))\n",
    "    \n",
    "dfs[0].info()"
   ]
  },
  {
   "cell_type": "markdown",
   "id": "bbfde04d-44eb-4c7b-b7db-425846c5337b",
   "metadata": {},
   "source": [
    "We'll merge each week's dataframe with the reference dataframe to ensure that any play we do not have in the plays dataframe is not considered as we don't have play-level information for it."
   ]
  },
  {
   "cell_type": "code",
   "execution_count": 92,
   "id": "425ff65841525202",
   "metadata": {
    "ExecuteTime": {
     "end_time": "2024-10-03T19:07:56.514098Z",
     "start_time": "2024-10-03T19:07:55.332883Z"
    },
    "collapsed": false,
    "jupyter": {
     "outputs_hidden": false
    }
   },
   "outputs": [
    {
     "name": "stdout",
     "output_type": "stream",
     "text": [
      "<class 'pandas.core.frame.DataFrame'>\n",
      "RangeIndex: 1085002 entries, 0 to 1085001\n",
      "Data columns (total 16 columns):\n",
      " #   Column         Non-Null Count    Dtype  \n",
      "---  ------         --------------    -----  \n",
      " 0   gameId         1085002 non-null  int64  \n",
      " 1   playId         1085002 non-null  int64  \n",
      " 2   nflId          1037828 non-null  float64\n",
      " 3   frameId        1085002 non-null  int64  \n",
      " 4   time           1085002 non-null  object \n",
      " 5   jerseyNumber   1037828 non-null  float64\n",
      " 6   team           1085002 non-null  object \n",
      " 7   playDirection  1085002 non-null  object \n",
      " 8   x              1085002 non-null  float64\n",
      " 9   y              1085002 non-null  float64\n",
      " 10  s              1085002 non-null  float64\n",
      " 11  a              1085002 non-null  float64\n",
      " 12  dis            1085002 non-null  float64\n",
      " 13  o              1037828 non-null  float64\n",
      " 14  dir            1037828 non-null  float64\n",
      " 15  event          87101 non-null    object \n",
      "dtypes: float64(9), int64(3), object(4)\n",
      "memory usage: 132.4+ MB\n"
     ]
    }
   ],
   "source": [
    "for idx, df in enumerate(dfs):\n",
    "    dfs[idx] = df.merge(reference_df, on=['gameId', 'playId'], how='inner')\n",
    "\n",
    "dfs[0].info()"
   ]
  },
  {
   "cell_type": "code",
   "execution_count": 93,
   "id": "28c25f6e72ce24b4",
   "metadata": {
    "ExecuteTime": {
     "end_time": "2024-10-03T19:08:11.721141Z",
     "start_time": "2024-10-03T19:08:11.709745Z"
    },
    "collapsed": false,
    "jupyter": {
     "outputs_hidden": false
    }
   },
   "outputs": [
    {
     "data": {
      "text/html": [
       "<div>\n",
       "<style scoped>\n",
       "    .dataframe tbody tr th:only-of-type {\n",
       "        vertical-align: middle;\n",
       "    }\n",
       "\n",
       "    .dataframe tbody tr th {\n",
       "        vertical-align: top;\n",
       "    }\n",
       "\n",
       "    .dataframe thead th {\n",
       "        text-align: right;\n",
       "    }\n",
       "</style>\n",
       "<table border=\"1\" class=\"dataframe\">\n",
       "  <thead>\n",
       "    <tr style=\"text-align: right;\">\n",
       "      <th></th>\n",
       "      <th>gameId</th>\n",
       "      <th>playId</th>\n",
       "      <th>playDescription</th>\n",
       "      <th>quarter</th>\n",
       "      <th>down</th>\n",
       "      <th>yardsToGo</th>\n",
       "      <th>DND</th>\n",
       "      <th>possessionTeam</th>\n",
       "      <th>defensiveTeam</th>\n",
       "      <th>yardlineSide</th>\n",
       "      <th>...</th>\n",
       "      <th>playResult</th>\n",
       "      <th>absoluteYardlineNumber</th>\n",
       "      <th>offenseFormation</th>\n",
       "      <th>personnelO</th>\n",
       "      <th>defendersInBox</th>\n",
       "      <th>personnelD</th>\n",
       "      <th>dropBackType</th>\n",
       "      <th>pff_playAction</th>\n",
       "      <th>pff_passCoverage</th>\n",
       "      <th>pff_passCoverageType</th>\n",
       "    </tr>\n",
       "  </thead>\n",
       "  <tbody>\n",
       "    <tr>\n",
       "      <th>0</th>\n",
       "      <td>2021090900</td>\n",
       "      <td>97</td>\n",
       "      <td>(13:33) (Shotgun) T.Brady pass incomplete deep...</td>\n",
       "      <td>1</td>\n",
       "      <td>3</td>\n",
       "      <td>2</td>\n",
       "      <td>3RD &amp; SHORT</td>\n",
       "      <td>TB</td>\n",
       "      <td>DAL</td>\n",
       "      <td>TB</td>\n",
       "      <td>...</td>\n",
       "      <td>0</td>\n",
       "      <td>43.0</td>\n",
       "      <td>SHOTGUN</td>\n",
       "      <td>1 RB, 1 TE, 3 WR</td>\n",
       "      <td>6.0</td>\n",
       "      <td>4 DL, 2 LB, 5 DB</td>\n",
       "      <td>TRADITIONAL</td>\n",
       "      <td>0</td>\n",
       "      <td>Cover-1</td>\n",
       "      <td>Man</td>\n",
       "    </tr>\n",
       "    <tr>\n",
       "      <th>1</th>\n",
       "      <td>2021090900</td>\n",
       "      <td>137</td>\n",
       "      <td>(13:18) (Shotgun) D.Prescott pass deep left to...</td>\n",
       "      <td>1</td>\n",
       "      <td>1</td>\n",
       "      <td>10</td>\n",
       "      <td>1ST &amp; 10</td>\n",
       "      <td>DAL</td>\n",
       "      <td>TB</td>\n",
       "      <td>DAL</td>\n",
       "      <td>...</td>\n",
       "      <td>28</td>\n",
       "      <td>108.0</td>\n",
       "      <td>EMPTY</td>\n",
       "      <td>1 RB, 2 TE, 2 WR</td>\n",
       "      <td>6.0</td>\n",
       "      <td>4 DL, 4 LB, 3 DB</td>\n",
       "      <td>TRADITIONAL</td>\n",
       "      <td>0</td>\n",
       "      <td>Cover-3</td>\n",
       "      <td>Zone</td>\n",
       "    </tr>\n",
       "    <tr>\n",
       "      <th>2</th>\n",
       "      <td>2021090900</td>\n",
       "      <td>187</td>\n",
       "      <td>(12:23) (Shotgun) D.Prescott pass short middle...</td>\n",
       "      <td>1</td>\n",
       "      <td>2</td>\n",
       "      <td>6</td>\n",
       "      <td>2ND &amp; MED</td>\n",
       "      <td>DAL</td>\n",
       "      <td>TB</td>\n",
       "      <td>DAL</td>\n",
       "      <td>...</td>\n",
       "      <td>5</td>\n",
       "      <td>76.0</td>\n",
       "      <td>SHOTGUN</td>\n",
       "      <td>0 RB, 2 TE, 3 WR</td>\n",
       "      <td>6.0</td>\n",
       "      <td>3 DL, 3 LB, 5 DB</td>\n",
       "      <td>TRADITIONAL</td>\n",
       "      <td>0</td>\n",
       "      <td>Cover-3</td>\n",
       "      <td>Zone</td>\n",
       "    </tr>\n",
       "    <tr>\n",
       "      <th>3</th>\n",
       "      <td>2021090900</td>\n",
       "      <td>282</td>\n",
       "      <td>(9:56) D.Prescott pass incomplete deep left to...</td>\n",
       "      <td>1</td>\n",
       "      <td>1</td>\n",
       "      <td>10</td>\n",
       "      <td>1ST &amp; 10</td>\n",
       "      <td>DAL</td>\n",
       "      <td>TB</td>\n",
       "      <td>TB</td>\n",
       "      <td>...</td>\n",
       "      <td>0</td>\n",
       "      <td>49.0</td>\n",
       "      <td>SINGLEBACK</td>\n",
       "      <td>1 RB, 2 TE, 2 WR</td>\n",
       "      <td>6.0</td>\n",
       "      <td>4 DL, 3 LB, 4 DB</td>\n",
       "      <td>TRADITIONAL</td>\n",
       "      <td>1</td>\n",
       "      <td>Cover-3</td>\n",
       "      <td>Zone</td>\n",
       "    </tr>\n",
       "    <tr>\n",
       "      <th>4</th>\n",
       "      <td>2021090900</td>\n",
       "      <td>349</td>\n",
       "      <td>(9:46) (Shotgun) D.Prescott pass incomplete sh...</td>\n",
       "      <td>1</td>\n",
       "      <td>3</td>\n",
       "      <td>15</td>\n",
       "      <td>3RD &amp; XL</td>\n",
       "      <td>DAL</td>\n",
       "      <td>TB</td>\n",
       "      <td>TB</td>\n",
       "      <td>...</td>\n",
       "      <td>0</td>\n",
       "      <td>54.0</td>\n",
       "      <td>SHOTGUN</td>\n",
       "      <td>1 RB, 1 TE, 3 WR</td>\n",
       "      <td>7.0</td>\n",
       "      <td>3 DL, 4 LB, 4 DB</td>\n",
       "      <td>TRADITIONAL</td>\n",
       "      <td>0</td>\n",
       "      <td>Cover-3</td>\n",
       "      <td>Zone</td>\n",
       "    </tr>\n",
       "  </tbody>\n",
       "</table>\n",
       "<p>5 rows × 26 columns</p>\n",
       "</div>"
      ],
      "text/plain": [
       "       gameId  playId                                    playDescription  \\\n",
       "0  2021090900      97  (13:33) (Shotgun) T.Brady pass incomplete deep...   \n",
       "1  2021090900     137  (13:18) (Shotgun) D.Prescott pass deep left to...   \n",
       "2  2021090900     187  (12:23) (Shotgun) D.Prescott pass short middle...   \n",
       "3  2021090900     282  (9:56) D.Prescott pass incomplete deep left to...   \n",
       "4  2021090900     349  (9:46) (Shotgun) D.Prescott pass incomplete sh...   \n",
       "\n",
       "   quarter  down  yardsToGo          DND possessionTeam defensiveTeam  \\\n",
       "0        1     3          2  3RD & SHORT             TB           DAL   \n",
       "1        1     1         10     1ST & 10            DAL            TB   \n",
       "2        1     2          6    2ND & MED            DAL            TB   \n",
       "3        1     1         10     1ST & 10            DAL            TB   \n",
       "4        1     3         15     3RD & XL            DAL            TB   \n",
       "\n",
       "  yardlineSide  ...  playResult absoluteYardlineNumber  offenseFormation  \\\n",
       "0           TB  ...           0                   43.0           SHOTGUN   \n",
       "1          DAL  ...          28                  108.0             EMPTY   \n",
       "2          DAL  ...           5                   76.0           SHOTGUN   \n",
       "3           TB  ...           0                   49.0        SINGLEBACK   \n",
       "4           TB  ...           0                   54.0           SHOTGUN   \n",
       "\n",
       "         personnelO defendersInBox        personnelD  dropBackType  \\\n",
       "0  1 RB, 1 TE, 3 WR            6.0  4 DL, 2 LB, 5 DB   TRADITIONAL   \n",
       "1  1 RB, 2 TE, 2 WR            6.0  4 DL, 4 LB, 3 DB   TRADITIONAL   \n",
       "2  0 RB, 2 TE, 3 WR            6.0  3 DL, 3 LB, 5 DB   TRADITIONAL   \n",
       "3  1 RB, 2 TE, 2 WR            6.0  4 DL, 3 LB, 4 DB   TRADITIONAL   \n",
       "4  1 RB, 1 TE, 3 WR            7.0  3 DL, 4 LB, 4 DB   TRADITIONAL   \n",
       "\n",
       "   pff_playAction pff_passCoverage pff_passCoverageType  \n",
       "0               0          Cover-1                  Man  \n",
       "1               0          Cover-3                 Zone  \n",
       "2               0          Cover-3                 Zone  \n",
       "3               1          Cover-3                 Zone  \n",
       "4               0          Cover-3                 Zone  \n",
       "\n",
       "[5 rows x 26 columns]"
      ]
     },
     "execution_count": 93,
     "metadata": {},
     "output_type": "execute_result"
    }
   ],
   "source": [
    "plays.head()"
   ]
  },
  {
   "cell_type": "code",
   "execution_count": 94,
   "id": "98953d3386e1214e",
   "metadata": {
    "ExecuteTime": {
     "end_time": "2024-10-03T20:04:09.985472Z",
     "start_time": "2024-10-03T20:04:09.903636Z"
    },
    "collapsed": false,
    "jupyter": {
     "outputs_hidden": false
    }
   },
   "outputs": [
    {
     "name": "stdout",
     "output_type": "stream",
     "text": [
      "['SHOTGUN' 'EMPTY' 'SINGLEBACK' 'I_FORM' 'PISTOL' 'JUMBO' 'WILDCAT']\n"
     ]
    },
    {
     "data": {
      "image/png": "[encoded data removed]",
      "text/plain": [
       "<Figure size 640x480 with 1 Axes>"
      ]
     },
     "metadata": {},
     "output_type": "display_data"
    }
   ],
   "source": [
    "formation_df = plays['offenseFormation'].value_counts().reset_index()\n",
    "\n",
    "print(formation_df['offenseFormation'].unique())\n",
    "\n",
    "fig, ax = plt.subplots()\n",
    "\n",
    "hbars = ax.barh(formation_df['offenseFormation'], formation_df['count'])\n",
    "ax.set_xlabel('Offense Formation')\n",
    "ax.set_ylabel('Count')\n",
    "ax.set_title('Offensive Formation Counts - 2021')\n",
    "ax.bar_label(hbars, labels=formation_df['count'],\n",
    "             padding=8, color='black', fontsize=14)\n",
    "ax.invert_yaxis()\n",
    "ax.set_xlim(right=6500)\n",
    "plt.show()"
   ]
  },
  {
   "cell_type": "markdown",
   "id": "43373a4d-ef88-423c-a050-89796febf9f0",
   "metadata": {},
   "source": [
    "Most of the offensive formations run in this time period of the NFL were out of a shotgun formation, or a formation where the quarter back is 5-7 yards off of the line of scrimmage behind the center. He recieves the snap at the start of the play and is more primed for a pass play than a run play. Once we filter by passing plays, occurances of formations like I-form, pistol, and singleback will surely decrease as these are predominantly run play formations."
   ]
  },
  {
   "cell_type": "code",
   "execution_count": 95,
   "id": "ea5baea8409b1a1",
   "metadata": {
    "ExecuteTime": {
     "end_time": "2024-10-03T19:53:28.370154Z",
     "start_time": "2024-10-03T19:53:28.365164Z"
    },
    "collapsed": false,
    "jupyter": {
     "outputs_hidden": false
    }
   },
   "outputs": [
    {
     "data": {
      "text/html": [
       "<div>\n",
       "<style scoped>\n",
       "    .dataframe tbody tr th:only-of-type {\n",
       "        vertical-align: middle;\n",
       "    }\n",
       "\n",
       "    .dataframe tbody tr th {\n",
       "        vertical-align: top;\n",
       "    }\n",
       "\n",
       "    .dataframe thead th {\n",
       "        text-align: right;\n",
       "    }\n",
       "</style>\n",
       "<table border=\"1\" class=\"dataframe\">\n",
       "  <thead>\n",
       "    <tr style=\"text-align: right;\">\n",
       "      <th></th>\n",
       "      <th>DND</th>\n",
       "      <th>count</th>\n",
       "    </tr>\n",
       "  </thead>\n",
       "  <tbody>\n",
       "    <tr>\n",
       "      <th>0</th>\n",
       "      <td>1ST &amp; 10</td>\n",
       "      <td>2706</td>\n",
       "    </tr>\n",
       "    <tr>\n",
       "      <th>1</th>\n",
       "      <td>2ND &amp; LONG</td>\n",
       "      <td>1454</td>\n",
       "    </tr>\n",
       "    <tr>\n",
       "      <th>2</th>\n",
       "      <td>3RD &amp; LONG</td>\n",
       "      <td>790</td>\n",
       "    </tr>\n",
       "    <tr>\n",
       "      <th>3</th>\n",
       "      <td>3RD &amp; MED</td>\n",
       "      <td>682</td>\n",
       "    </tr>\n",
       "    <tr>\n",
       "      <th>4</th>\n",
       "      <td>2ND &amp; MED</td>\n",
       "      <td>570</td>\n",
       "    </tr>\n",
       "    <tr>\n",
       "      <th>5</th>\n",
       "      <td>2ND &amp; XL</td>\n",
       "      <td>512</td>\n",
       "    </tr>\n",
       "    <tr>\n",
       "      <th>6</th>\n",
       "      <td>3RD &amp; SHORT</td>\n",
       "      <td>462</td>\n",
       "    </tr>\n",
       "    <tr>\n",
       "      <th>7</th>\n",
       "      <td>3RD &amp; XL</td>\n",
       "      <td>421</td>\n",
       "    </tr>\n",
       "    <tr>\n",
       "      <th>8</th>\n",
       "      <td>2ND &amp; SHORT</td>\n",
       "      <td>256</td>\n",
       "    </tr>\n",
       "    <tr>\n",
       "      <th>9</th>\n",
       "      <td>1ST &amp; XL</td>\n",
       "      <td>174</td>\n",
       "    </tr>\n",
       "    <tr>\n",
       "      <th>10</th>\n",
       "      <td>4TH &amp; SHORT</td>\n",
       "      <td>101</td>\n",
       "    </tr>\n",
       "    <tr>\n",
       "      <th>11</th>\n",
       "      <td>4TH &amp; XL</td>\n",
       "      <td>62</td>\n",
       "    </tr>\n",
       "    <tr>\n",
       "      <th>12</th>\n",
       "      <td>4TH &amp; MED</td>\n",
       "      <td>57</td>\n",
       "    </tr>\n",
       "    <tr>\n",
       "      <th>13</th>\n",
       "      <td>1ST &amp; LONG</td>\n",
       "      <td>55</td>\n",
       "    </tr>\n",
       "    <tr>\n",
       "      <th>14</th>\n",
       "      <td>1ST &amp; MED</td>\n",
       "      <td>47</td>\n",
       "    </tr>\n",
       "    <tr>\n",
       "      <th>15</th>\n",
       "      <td>4TH &amp; LONG</td>\n",
       "      <td>43</td>\n",
       "    </tr>\n",
       "    <tr>\n",
       "      <th>16</th>\n",
       "      <td>1ST &amp; SHORT</td>\n",
       "      <td>33</td>\n",
       "    </tr>\n",
       "  </tbody>\n",
       "</table>\n",
       "</div>"
      ],
      "text/plain": [
       "            DND  count\n",
       "0      1ST & 10   2706\n",
       "1    2ND & LONG   1454\n",
       "2    3RD & LONG    790\n",
       "3     3RD & MED    682\n",
       "4     2ND & MED    570\n",
       "5      2ND & XL    512\n",
       "6   3RD & SHORT    462\n",
       "7      3RD & XL    421\n",
       "8   2ND & SHORT    256\n",
       "9      1ST & XL    174\n",
       "10  4TH & SHORT    101\n",
       "11     4TH & XL     62\n",
       "12    4TH & MED     57\n",
       "13   1ST & LONG     55\n",
       "14    1ST & MED     47\n",
       "15   4TH & LONG     43\n",
       "16  1ST & SHORT     33"
      ]
     },
     "execution_count": 95,
     "metadata": {},
     "output_type": "execute_result"
    }
   ],
   "source": [
    "downs_df = plays[['DND']].value_counts().reset_index()\n",
    "\n",
    "downs_df"
   ]
  },
  {
   "cell_type": "code",
   "execution_count": 96,
   "id": "434e76d047766c3d",
   "metadata": {
    "ExecuteTime": {
     "end_time": "2024-10-03T20:05:44.448338Z",
     "start_time": "2024-10-03T20:05:44.339730Z"
    },
    "collapsed": false,
    "jupyter": {
     "outputs_hidden": false
    }
   },
   "outputs": [
    {
     "data": {
      "image/png": "[encoded data removed]",
      "text/plain": [
       "<Figure size 640x480 with 1 Axes>"
      ]
     },
     "metadata": {},
     "output_type": "display_data"
    }
   ],
   "source": [
    "fig, ax = plt.subplots()\n",
    "\n",
    "hbars = ax.barh(downs_df['DND'], downs_df['count'])\n",
    "ax.set_xlabel('Down and Distance')\n",
    "ax.set_ylabel('Count')\n",
    "ax.set_title('Offensive Down and Distance Counts - 2021')\n",
    "ax.bar_label(hbars, labels=downs_df['count'],\n",
    "             padding=8, color='black', fontsize=14)\n",
    "ax.invert_yaxis()\n",
    "ax.set_xlim(right=6500)\n",
    "plt.show()"
   ]
  },
  {
   "cell_type": "markdown",
   "id": "74c025a3-e50f-4467-92f9-b54ab3e3dc7b",
   "metadata": {},
   "source": [
    "With some football experience, this figure is quite intuitive. 1st and 10's are experienced much more often than any other down situation as this is the main goal of the offense to get back to 1st down. With only around 500 occurances of important down situations like 3rd & short and 2nd and medium --- situations that I feel are experienced quite frequently by a football offense --- it might be worth considering gathering more data in these situations so we can create more meaningful models."
   ]
  },
  {
   "cell_type": "code",
   "execution_count": 97,
   "id": "72e428d9",
   "metadata": {},
   "outputs": [
    {
     "name": "stdout",
     "output_type": "stream",
     "text": [
      "         personnelO  count\n",
      "0  1 RB, 1 TE, 3 WR   5664\n",
      "1  1 RB, 2 TE, 2 WR   1482\n",
      "2  2 RB, 1 TE, 2 WR    432\n",
      "3  1 RB, 3 TE, 1 WR    223\n",
      "4  1 RB, 0 TE, 4 WR    178\n"
     ]
    },
    {
     "data": {
      "image/png": "[encoded data removed]",
      "text/plain": [
       "<Figure size 640x480 with 1 Axes>"
      ]
     },
     "metadata": {},
     "output_type": "display_data"
    }
   ],
   "source": [
    "personnel_df = plays['personnelO'].value_counts().reset_index()\n",
    "\n",
    "print(personnel_df.head())\n",
    "\n",
    "# remove rare personnel packages ran less than 10 times that season\n",
    "personnel_df = personnel_df[personnel_df['count'] >= 10]\n",
    "\n",
    "fig, ax = plt.subplots()\n",
    "\n",
    "hbars = ax.barh(personnel_df['personnelO'], personnel_df['count'])\n",
    "ax.set_xlabel('Offense Personnel')\n",
    "ax.set_ylabel('Count')\n",
    "ax.set_title('Offensive Personnel Counts - 2022')\n",
    "ax.bar_label(hbars, labels=personnel_df['count'],\n",
    "             padding=8, color='black', fontsize=14)\n",
    "ax.invert_yaxis()\n",
    "ax.set_xlim(right=6500)\n",
    "plt.show()"
   ]
  },
  {
   "cell_type": "markdown",
   "id": "c9ab219a-c33b-4fa8-8afc-a34433bd64ce",
   "metadata": {},
   "source": [
    "The most common personnel packages in the NFL are 11 personnel (1 RB, 1 TE, and 3 WR) and 12 personnel (1 RB, 2 TE, and 2 WR). "
   ]
  },
  {
   "cell_type": "code",
   "execution_count": 98,
   "id": "355ce7d5-3866-4080-98d9-3518ab2454e8",
   "metadata": {},
   "outputs": [
    {
     "data": {
      "text/plain": [
       "Index(['gameId', 'playId', 'playDescription', 'quarter', 'down', 'yardsToGo',\n",
       "       'DND', 'possessionTeam', 'defensiveTeam', 'yardlineSide',\n",
       "       'yardlineNumber', 'gameClock', 'preSnapHomeScore',\n",
       "       'preSnapVisitorScore', 'passResult', 'prePenaltyPlayResult',\n",
       "       'playResult', 'absoluteYardlineNumber', 'offenseFormation',\n",
       "       'personnelO', 'defendersInBox', 'personnelD', 'dropBackType',\n",
       "       'pff_playAction', 'pff_passCoverage', 'pff_passCoverageType'],\n",
       "      dtype='object')"
      ]
     },
     "execution_count": 98,
     "metadata": {},
     "output_type": "execute_result"
    }
   ],
   "source": [
    "plays.columns"
   ]
  },
  {
   "cell_type": "code",
   "execution_count": 99,
   "id": "074a49c5",
   "metadata": {},
   "outputs": [
    {
     "data": {
      "image/png": "[encoded data removed]",
      "text/plain": [
       "<Figure size 1000x600 with 4 Axes>"
      ]
     },
     "metadata": {},
     "output_type": "display_data"
    }
   ],
   "source": [
    "avg_yards_formation = plays.groupby(['offenseFormation']).agg(\n",
    "    avg_yards=('playResult', 'mean')\n",
    ").reset_index()\n",
    "\n",
    "avg_yards_quarter = plays.groupby(['quarter']).agg(\n",
    "    avg_yards=('playResult', 'mean')\n",
    ").reset_index()\n",
    "\n",
    "avg_yards_down = plays.groupby(['down']).agg(\n",
    "    avg_yards=('playResult', 'mean')\n",
    ").reset_index()\n",
    "\n",
    "fig, axes = plt.subplots(2, 2, figsize=(12, 10))\n",
    "\n",
    "avg_yards_formation.plot(kind='bar', x='offenseFormation', y='avg_yards', ax=axes[0, 0], figsize=(10, 6))\n",
    "axes[0, 0].set_title('Average Yards by Offensive Formation')\n",
    "axes[0, 0].set_xlabel('Formation')\n",
    "axes[0, 0].set_ylabel('Average Yards Gained')\n",
    "axes[0, 0].tick_params(axis='x', rotation=45)\n",
    "\n",
    "avg_yards_quarter.plot(kind='bar', x='quarter', y='avg_yards', ax=axes[0, 1], figsize=(10, 6))\n",
    "axes[0, 1].set_title('Average Yards by Quarter')\n",
    "axes[0, 1].set_xlabel('Offensive Personnel')\n",
    "axes[0, 1].set_ylabel('Average Yards Gained')\n",
    "axes[0, 1].tick_params(axis='x', rotation=45)\n",
    "\n",
    "avg_yards_down.plot(kind='bar', x='down', y='avg_yards', ax=axes[1, 0], figsize=(10, 6))\n",
    "axes[1, 0].set_title('Average Yards by Down')\n",
    "axes[1, 0].set_xlabel('Quarter')\n",
    "axes[1, 0].set_ylabel('Average Yards Gained')\n",
    "axes[1, 0].tick_params(axis='x', rotation=45)\n",
    "\n",
    "plt.tight_layout()\n",
    "\n",
    "\n",
    "plt.show()"
   ]
  },
  {
   "cell_type": "code",
   "execution_count": 100,
   "id": "8008a555d4cf0e0b",
   "metadata": {
    "collapsed": false,
    "jupyter": {
     "outputs_hidden": false
    }
   },
   "outputs": [
    {
     "data": {
      "image/png": "[encoded data removed]",
      "text/plain": [
       "<Figure size 640x480 with 1 Axes>"
      ]
     },
     "metadata": {},
     "output_type": "display_data"
    }
   ],
   "source": [
    "plt.hist(plays['absoluteYardlineNumber'], bins=20)\n",
    "plt.xlabel('Yardline Number')\n",
    "plt.ylabel('Frequency')\n",
    "plt.title('Frequencies of Yardline Numbers')\n",
    "plt.show()"
   ]
  },
  {
   "cell_type": "markdown",
   "id": "34fac99b-b0c6-469e-9600-2584eae99b09",
   "metadata": {},
   "source": [
    "There is a very spread distribution of absolute yardline numbers which speaks to how far the offense was from the endzone at the start of a given play. This will require standardization if we want to derive any meaningful models from this data.\n",
    "\n",
    "We'll store the modified dataframes for use in other notebooks in this repository."
   ]
  },
  {
   "cell_type": "code",
   "execution_count": 101,
   "id": "d5b48ef171deda20",
   "metadata": {
    "collapsed": false,
    "jupyter": {
     "outputs_hidden": false
    }
   },
   "outputs": [],
   "source": [
    "plays.to_csv('./updated/playsUpdated.csv', index=False)\n",
    "for idx, df in enumerate(dfs):\n",
    "    df.to_csv(f'./updated/Week{idx}Updated.csv', index=False)"
   ]
  },
  {
   "cell_type": "code",
   "execution_count": null,
   "id": "5374ddfd",
   "metadata": {},
   "outputs": [],
   "source": []
  }
 ],
 "metadata": {
  "kernelspec": {
   "display_name": "Python 3 (ipykernel)",
   "language": "python",
   "name": "python3"
  },
  "language_info": {
   "codemirror_mode": {
    "name": "ipython",
    "version": 3
   },
   "file_extension": ".py",
   "mimetype": "text/x-python",
   "name": "python",
   "nbconvert_exporter": "python",
   "pygments_lexer": "ipython3",
   "version": "3.12.7"
  }
 },
 "nbformat": 4,
 "nbformat_minor": 5
}
